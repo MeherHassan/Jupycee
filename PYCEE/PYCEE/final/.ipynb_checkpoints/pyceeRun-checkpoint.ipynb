{
 "cells": [
  {
   "cell_type": "code",
   "execution_count": 1,
   "metadata": {},
   "outputs": [],
   "source": [
    "import jupycee\n",
    "import re"
   ]
  },
  {
   "cell_type": "code",
   "execution_count": 2,
   "metadata": {},
   "outputs": [
    {
     "name": "stdout",
     "output_type": "stream",
     "text": [
      "Traceback \u001b[1;36m(most recent call last)\u001b[0m:\n",
      "\u001b[1;36m  File \u001b[1;32m\"<ipython-input-2-b482e39926a7>\"\u001b[1;36m, line \u001b[1;32m4\u001b[1;36m, in \u001b[1;35m<module>\u001b[1;36m\u001b[0m\n",
      "\u001b[1;33m    random_number=response.get_json()\u001b[0m\n",
      "\u001b[1;31mAttributeError\u001b[0m\u001b[1;31m:\u001b[0m 'Response' object has no attribute 'get_json'\n",
      "\n",
      "--------------------------------------------------\n",
      "Result Obtained from StackOverflow Using JUPYCEE\n",
      "\n",
      "--------------------------------------------------\n",
      "\u001b[32mSearching for AttributeError: 'Response' object has no attribute 'get_json'\u001b[39m\n",
      "\u001b[31mNo search result found forAttributeError: 'Response' object has no attribute 'get_json'\u001b[39m\n",
      "\u001b[32mSearching for 'Response' object has no attribute 'get_json'\u001b[39m\n",
      "\u001b[31mNo search result found for: 'Response' object has no attribute 'get_json'\u001b[39m\n",
      "\u001b[32mSearching for: AttributeError\u001b[39m\n",
      "\u001b[43mAnswer Found\u001b[49m\n",
      "Url is https://stackoverflow.com/questions/8949252/why-do-i-get-attributeerror-nonetype-object-has-no-attribute-something\n",
      "Que id is 8949252\n",
      "Ans id is 8949265\n",
      "\u001b[43mUn-summarised Answer is\u001b[49m\n"
     ]
    },
    {
     "data": {
      "text/html": [
       "<p>NoneType means that instead of an instance of whatever Class or Object you think you're working with, you've actually got <code>None</code>.  That usually means that an assignment or function call up above failed or returned an unexpected result.</p>\n"
      ],
      "text/plain": [
       "<IPython.core.display.HTML object>"
      ]
     },
     "metadata": {},
     "output_type": "display_data"
    },
    {
     "name": "stdout",
     "output_type": "stream",
     "text": [
      "\u001b[43mNo Summarisation needed due to less sentences found in the answer\u001b[49m\n"
     ]
    }
   ],
   "source": [
    "import requests\n",
    "response = requests.get(\"http://www.randomnumberapi.com/api/v1.0/random?count=1\")\n",
    "# response.json() is the actual method name\n",
    "random_number=response.get_json()"
   ]
  },
  {
   "cell_type": "code",
   "execution_count": 3,
   "metadata": {},
   "outputs": [
    {
     "name": "stdout",
     "output_type": "stream",
     "text": [
      "Traceback \u001b[1;36m(most recent call last)\u001b[0m:\n",
      "\u001b[1;36m  File \u001b[1;32m\"<ipython-input-3-b9335148d4e0>\"\u001b[1;36m, line \u001b[1;32m3\u001b[1;36m, in \u001b[1;35m<module>\u001b[1;36m\u001b[0m\n",
      "\u001b[1;33m    print(f\"First element is {sorted_list[0]}\")\u001b[0m\n",
      "\u001b[1;31mTypeError\u001b[0m\u001b[1;31m:\u001b[0m 'NoneType' object is not subscriptable\n",
      "\n",
      "--------------------------------------------------\n",
      "Result Obtained from StackOverflow Using JUPYCEE\n",
      "\n",
      "--------------------------------------------------\n",
      "\u001b[32mSearching for TypeError: 'NoneType' object is not subscriptable\u001b[39m\n",
      "\u001b[43mAnswer Found\u001b[49m\n",
      "Url is https://stackoverflow.com/questions/9320766/python-math-typeerror-nonetype-object-is-not-subscriptable\n",
      "Que id is 9320766\n",
      "Ans id is 9320799\n",
      "\u001b[43mUn-summarised Answer is\u001b[49m\n"
     ]
    },
    {
     "data": {
      "text/html": [
       "<pre><code>lista = list.sort(lista)\n",
       "</code></pre>\n",
       "\n",
       "<p>This should be</p>\n",
       "\n",
       "<pre><code>lista.sort()\n",
       "</code></pre>\n",
       "\n",
       "<p>The <code>.sort()</code> method is in-place, and returns None.  If you want something not in-place, which returns a value, you could use</p>\n",
       "\n",
       "<pre><code>sorted_list = sorted(lista)\n",
       "</code></pre>\n",
       "\n",
       "<p>Aside #1: please don't call your lists <code>list</code>.  That clobbers the builtin list type.</p>\n",
       "\n",
       "<p>Aside #2: I'm not sure what this line is meant to do:</p>\n",
       "\n",
       "<pre><code>print str(\"value 1a\")+str(\" + \")+str(\"value 2\")+str(\" = \")+str(\"value 3a \")+str(\"value 4\")+str(\"\\n\")\n",
       "</code></pre>\n",
       "\n",
       "<p>is it simply</p>\n",
       "\n",
       "<pre><code>print \"value 1a + value 2 = value 3a value 4\"\n",
       "</code></pre>\n",
       "\n",
       "<p>?  In other words, I don't know why you're calling str on things which are already str.</p>\n",
       "\n",
       "<p>Aside #3: sometimes you use <code>print(\"something\")</code> (Python 3 syntax) and sometimes you use <code>print \"something\"</code> (Python 2).  The latter would give you a SyntaxError in py3, so you must be running 2.*, in which case you probably don't want to get in the habit or you'll wind up printing tuples, with extra parentheses.  I admit that it'll work well enough here, because if there's only one element in the parentheses it's not interpreted as a tuple, but it looks strange to the pythonic eye..</p>\n"
      ],
      "text/plain": [
       "<IPython.core.display.HTML object>"
      ]
     },
     "metadata": {},
     "output_type": "display_data"
    },
    {
     "name": "stdout",
     "output_type": "stream",
     "text": [
      "\u001b[43mSummarised Answer is\u001b[49m\n"
     ]
    },
    {
     "data": {
      "text/html": [
       "If you want something not in-place, which returns a value, you could use</p><pre><code>print str(\"value 1a\")+str(\" + \")+str(\"value 2\")+str(\" = \")+str(\"value 3a \")+str(\"value 4\")+str(\"\\n\") </code></pre><pre><code>print \"value 1a + value 2 = value 3a value 4\" </code></pre><p>Aside #3: sometimes you use <code>print(\"something\")</code> (Python 3 syntax) and sometimes you use <code>print \"something\"</code> (Python 2)."
      ],
      "text/plain": [
       "<IPython.core.display.HTML object>"
      ]
     },
     "metadata": {},
     "output_type": "display_data"
    }
   ],
   "source": [
    "a_list = [5,1,2,6]\n",
    "sorted_list = a_list.sort()\n",
    "print(f\"First element is {sorted_list[0]}\")"
   ]
  },
  {
   "cell_type": "code",
   "execution_count": 4,
   "metadata": {
    "scrolled": true
   },
   "outputs": [
    {
     "name": "stdout",
     "output_type": "stream",
     "text": [
      "Traceback \u001b[1;36m(most recent call last)\u001b[0m:\n",
      "\u001b[1;36m  File \u001b[1;32m\"<ipython-input-4-b1b2720bae0b>\"\u001b[1;36m, line \u001b[1;32m7\u001b[1;36m, in \u001b[1;35m<module>\u001b[1;36m\u001b[0m\n",
      "\u001b[1;33m    fibonnaci(6)\u001b[0m\n",
      "\u001b[1;31mNameError\u001b[0m\u001b[1;31m:\u001b[0m name 'fibonnaci' is not defined\n",
      "\n",
      "--------------------------------------------------\n",
      "Result Obtained from StackOverflow Using JUPYCEE\n",
      "\n",
      "--------------------------------------------------\n",
      "\u001b[32mSearching for NameError: name 'fibonnaci' is not defined\u001b[39m\n",
      "\u001b[31mNo search result found forNameError: name 'fibonnaci' is not defined\u001b[39m\n",
      "\u001b[32mSearching for name 'fibonnaci' is not defined\u001b[39m\n",
      "\u001b[31mNo search result found for: name 'fibonnaci' is not defined\u001b[39m\n",
      "\u001b[32mSearching for: NameError\u001b[39m\n",
      "\u001b[43mAnswer Found\u001b[49m\n",
      "Url is https://stackoverflow.com/questions/17192158/nameerror-global-name-xrange-is-not-defined-in-python-3\n",
      "Que id is 17192158\n",
      "Ans id is 17192181\n",
      "\u001b[43mUn-summarised Answer is\u001b[49m\n"
     ]
    },
    {
     "data": {
      "text/html": [
       "<p>You are trying to run a Python 2 codebase with Python 3. <a href=\"https://docs.python.org/2/library/functions.html#xrange\" rel=\"noreferrer\"><code>xrange()</code></a> was renamed to <a href=\"https://docs.python.org/3/library/functions.html#func-range\" rel=\"noreferrer\"><code>range()</code></a> in Python 3.</p>\n",
       "\n",
       "<p>Run the game with Python 2 instead. Don't try to port it unless you know what you are doing, most likely there will be more problems beyond <code>xrange()</code> vs. <code>range()</code>.</p>\n",
       "\n",
       "<p>For the record, what you are seeing is not a syntax error but a runtime exception instead.</p>\n",
       "\n",
       "<hr>\n",
       "\n",
       "<p>If you do know what your are doing and are actively making a Python 2 codebase compatible with Python 3, you can bridge the code by adding the global name to your module as an alias for <code>range</code>. (Take into account that you <em>may</em> have to update any existing <code>range()</code> use in the Python 2 codebase with <code>list(range(...))</code> to ensure you still get a list object in Python 3):</p>\n",
       "\n",
       "<pre><code>try:\n",
       "    # Python 2\n",
       "    xrange\n",
       "except NameError:\n",
       "    # Python 3, xrange is now named range\n",
       "    xrange = range\n",
       "\n",
       "# Python 2 code that uses xrange(...) unchanged, and any\n",
       "# range(...) replaced with list(range(...))\n",
       "</code></pre>\n",
       "\n",
       "<p>or replace all uses of <code>xrange(...)</code> with <code>range(...)</code> in the codebase and then use a different shim to make the Python 3 syntax compatible with Python 2:</p>\n",
       "\n",
       "<pre><code>try:\n",
       "    # Python 2 forward compatibility\n",
       "    range = xrange\n",
       "except NameError:\n",
       "    pass\n",
       "\n",
       "# Python 2 code transformed from range(...) -&gt; list(range(...)) and\n",
       "# xrange(...) -&gt; range(...).\n",
       "</code></pre>\n",
       "\n",
       "<p>The latter is preferable for codebases that want to aim to be Python 3 compatible <em>only</em> in the long run, it is easier to then just use Python 3 syntax whenever possible.</p>\n"
      ],
      "text/plain": [
       "<IPython.core.display.HTML object>"
      ]
     },
     "metadata": {},
     "output_type": "display_data"
    },
    {
     "name": "stdout",
     "output_type": "stream",
     "text": [
      "\u001b[43mSummarised Answer is\u001b[49m\n"
     ]
    },
    {
     "data": {
      "text/html": [
       "<p>If you do know what your are doing and are actively making a Python 2 codebase compatible with Python 3, you can bridge the code by adding the global name to your module as an alias for <code>range</code>.(Take into account that you <em>may</em> have to update any existing <code>range()</code> use in the Python 2 codebase with <code>list(range(...))</code> to ensure you still get a list object in Python 3):</p><p>or replace all uses of <code>xrange(...)</code> with <code>range(...)</code> in the codebase and then use a different shim to make the Python 3 syntax compatible with Python 2:</p><p>The latter is preferable for codebases that want to aim to be Python 3 compatible <em>only</em> in the long run, it is easier to then just use Python 3 syntax whenever possible.</p>"
      ],
      "text/plain": [
       "<IPython.core.display.HTML object>"
      ]
     },
     "metadata": {},
     "output_type": "display_data"
    }
   ],
   "source": [
    "def fibonacci(n):\n",
    "    if n <= 1:\n",
    "        return n\n",
    "    else:\n",
    "        return(fibonacci(n-1) + fibonacci(n-2))\n",
    "\n",
    "fibonnaci(6)"
   ]
  },
  {
   "cell_type": "code",
   "execution_count": null,
   "metadata": {},
   "outputs": [],
   "source": []
  }
 ],
 "metadata": {
  "kernelspec": {
   "display_name": "Python 3",
   "language": "python",
   "name": "python3"
  },
  "language_info": {
   "codemirror_mode": {
    "name": "ipython",
    "version": 3
   },
   "file_extension": ".py",
   "mimetype": "text/x-python",
   "name": "python",
   "nbconvert_exporter": "python",
   "pygments_lexer": "ipython3",
   "version": "3.8.5"
  }
 },
 "nbformat": 4,
 "nbformat_minor": 4
}
