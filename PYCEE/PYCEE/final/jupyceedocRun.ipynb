{
 "cells": [
  {
   "cell_type": "code",
   "execution_count": 1,
   "metadata": {},
   "outputs": [],
   "source": [
    "import jupyceedoc"
   ]
  },
  {
   "cell_type": "code",
   "execution_count": 2,
   "metadata": {},
   "outputs": [
    {
     "name": "stdout",
     "output_type": "stream",
     "text": [
      "Traceback \u001b[1;36m(most recent call last)\u001b[0m:\n",
      "\u001b[1;36m  File \u001b[1;32m\"<ipython-input-2-a4c630d9b66b>\"\u001b[1;36m, line \u001b[1;32m1\u001b[1;36m, in \u001b[1;35m<module>\u001b[1;36m\u001b[0m\n",
      "\u001b[1;33m    import kkl\u001b[0m\n",
      "\u001b[1;31mModuleNotFoundError\u001b[0m\u001b[1;31m:\u001b[0m No module named 'kkl'\n",
      "\n",
      "-------------------------------------------------------------------\n",
      "Result Obtained from Official Python Documentation Using JUPYCEEDOC\n",
      "\n",
      "-------------------------------------------------------------------\n",
      "ModuleNotFoundError\n"
     ]
    },
    {
     "data": {
      "text/html": [
       "\n",
       "\n",
       "exception ModuleNotFoundError¶\n",
       "A subclass of ImportError which is raised by import\n",
       "when a module could not be located.  It is also raised when None\n",
       "is found in sys.modules.\n",
       "\n",
       "New in version 3.6.\n",
       "\n"
      ],
      "text/plain": [
       "<IPython.core.display.HTML object>"
      ]
     },
     "metadata": {},
     "output_type": "display_data"
    },
    {
     "name": "stdout",
     "output_type": "stream",
     "text": [
      "ImportError\n"
     ]
    },
    {
     "data": {
      "text/html": [
       "\n",
       "\n",
       "exception ImportError¶\n",
       "Raised when the import statement has troubles trying to\n",
       "load a module.  Also raised when the “from list” in from ... import\n",
       "has a name that cannot be found.\n",
       "The name and path attributes can be set using keyword-only\n",
       "arguments to the constructor. When set they represent the name of the module\n",
       "that was attempted to be imported and the path to any file which triggered\n",
       "the exception, respectively.\n",
       "\n",
       "Changed in version 3.3: Added the name and path attributes.\n",
       "\n"
      ],
      "text/plain": [
       "<IPython.core.display.HTML object>"
      ]
     },
     "metadata": {},
     "output_type": "display_data"
    },
    {
     "name": "stdout",
     "output_type": "stream",
     "text": [
      "\u001b[43mYou may also check this Hint\u001b[49m\n",
      "A module (library) named '\u001b[43mkkl\u001b[49m' is missing.\n",
      "You might want to check if this is a valid module name or\n",
      "if this module can be installed using pip like: 'pip install \u001b[43mkkl\u001b[49m'\n"
     ]
    }
   ],
   "source": [
    "import kkl"
   ]
  },
  {
   "cell_type": "code",
   "execution_count": 3,
   "metadata": {},
   "outputs": [
    {
     "name": "stdout",
     "output_type": "stream",
     "text": [
      "Traceback \u001b[1;36m(most recent call last)\u001b[0m:\n",
      "\u001b[1;36m  File \u001b[1;32m\"<ipython-input-3-1b67c556d0cb>\"\u001b[1;36m, line \u001b[1;32m2\u001b[1;36m, in \u001b[1;35m<module>\u001b[1;36m\u001b[0m\n",
      "\u001b[1;33m    ages['Michael']\u001b[0m\n",
      "\u001b[1;31mKeyError\u001b[0m\u001b[1;31m:\u001b[0m 'Michael'\n",
      "\n",
      "-------------------------------------------------------------------\n",
      "Result Obtained from Official Python Documentation Using JUPYCEEDOC\n",
      "\n",
      "-------------------------------------------------------------------\n",
      "KeyError\n"
     ]
    },
    {
     "data": {
      "text/html": [
       "\n",
       "\n",
       "exception KeyError¶\n",
       "Raised when a mapping (dictionary) key is not found in the set of existing keys.\n"
      ],
      "text/plain": [
       "<IPython.core.display.HTML object>"
      ]
     },
     "metadata": {},
     "output_type": "display_data"
    },
    {
     "name": "stdout",
     "output_type": "stream",
     "text": [
      "\u001b[43mYou may also check this Hint\u001b[49m\n",
      " KeyError exceptions are raised to the user when a key is not found in a dictionary.\n",
      "To solve this error you may want to define a key with value \u001b[43mMichael\u001b[49m in the dictionary.\n",
      "Or you may want to use the method .get() of a dictionary which can retrieve the value associated\n",
      "to a key even when the key is missing by passing a default value.\n",
      "Example:\n",
      "\n",
      "foo = your_dict.get('missing_key', default='bar')\n"
     ]
    }
   ],
   "source": [
    "ages = {'Jim': 30, 'Pam': 28, 'Kevin': 33}\n",
    "ages['Michael']"
   ]
  },
  {
   "cell_type": "code",
   "execution_count": 4,
   "metadata": {},
   "outputs": [
    {
     "name": "stdout",
     "output_type": "stream",
     "text": [
      "Traceback \u001b[1;36m(most recent call last)\u001b[0m:\n",
      "\u001b[1;36m  File \u001b[1;32m\"<ipython-input-4-7cb091b12752>\"\u001b[1;36m, line \u001b[1;32m4\u001b[1;36m, in \u001b[1;35m<module>\u001b[1;36m\u001b[0m\n",
      "\u001b[1;33m    print(world_cup_titles[5])\u001b[0m\n",
      "\u001b[1;31mIndexError\u001b[0m\u001b[1;31m:\u001b[0m list index out of range\n",
      "\n",
      "-------------------------------------------------------------------\n",
      "Result Obtained from Official Python Documentation Using JUPYCEEDOC\n",
      "\n",
      "-------------------------------------------------------------------\n",
      "IndexError\n"
     ]
    },
    {
     "data": {
      "text/html": [
       "\n",
       "\n",
       "exception IndexError¶\n",
       "Raised when a sequence subscript is out of range.  (Slice indices are\n",
       "silently truncated to fall in the allowed range; if an index is not an\n",
       "integer, TypeError is raised.)\n"
      ],
      "text/plain": [
       "<IPython.core.display.HTML object>"
      ]
     },
     "metadata": {},
     "output_type": "display_data"
    },
    {
     "name": "stdout",
     "output_type": "stream",
     "text": [
      "\u001b[43mYou may also check this Hint\u001b[49m\n",
      "You tried to access an index that does not exist in a sequence at \u001b[43m line \u001b[1;32m4\u001b[1;36m\u001b[49m.\n",
      "An IndexError happens when asking for non existing indexes values of sequences.\n",
      "Sequences can be lists, tuples and range objects.\n",
      "To fix this make sure that the index value is valid.\n"
     ]
    }
   ],
   "source": [
    "# Brazil world cup titles by year\n",
    "world_cup_titles = [1958,1962,1970,1994,2002]\n",
    "# print year of the 5th title\n",
    "print(world_cup_titles[5])"
   ]
  },
  {
   "cell_type": "code",
   "execution_count": 5,
   "metadata": {},
   "outputs": [
    {
     "name": "stdout",
     "output_type": "stream",
     "text": [
      "Traceback \u001b[1;36m(most recent call last)\u001b[0m:\n",
      "\u001b[1;36m  File \u001b[1;32m\"<ipython-input-5-b1b2720bae0b>\"\u001b[1;36m, line \u001b[1;32m7\u001b[1;36m, in \u001b[1;35m<module>\u001b[1;36m\u001b[0m\n",
      "\u001b[1;33m    fibonnaci(6)\u001b[0m\n",
      "\u001b[1;31mNameError\u001b[0m\u001b[1;31m:\u001b[0m name 'fibonnaci' is not defined\n",
      "\n",
      "-------------------------------------------------------------------\n",
      "Result Obtained from Official Python Documentation Using JUPYCEEDOC\n",
      "\n",
      "-------------------------------------------------------------------\n",
      "NameError\n"
     ]
    },
    {
     "data": {
      "text/html": [
       "\n",
       "\n",
       "exception NameError¶\n",
       "Raised when a local or global name is not found.  This applies only to\n",
       "unqualified names.  The associated value is an error message that includes the\n",
       "name that could not be found.\n"
      ],
      "text/plain": [
       "<IPython.core.display.HTML object>"
      ]
     },
     "metadata": {},
     "output_type": "display_data"
    },
    {
     "name": "stdout",
     "output_type": "stream",
     "text": [
      "\u001b[43mYou may also check this Hint\u001b[49m\n",
      "A variable named '\u001b[43mfibonnaci\u001b[49m' is missing.\n",
      "Maybe you forget to define this variable or even you accidentally misspelled its actual name?\n"
     ]
    }
   ],
   "source": [
    "def fibonacci(n):\n",
    "    if n <= 1:\n",
    "        return n\n",
    "    else:\n",
    "        return(fibonacci(n-1) + fibonacci(n-2))\n",
    "\n",
    "fibonnaci(6)"
   ]
  },
  {
   "cell_type": "code",
   "execution_count": 6,
   "metadata": {},
   "outputs": [
    {
     "name": "stdout",
     "output_type": "stream",
     "text": [
      "Traceback \u001b[1;36m(most recent call last)\u001b[0m:\n",
      "\u001b[1;36m  File \u001b[1;32m\"/Users/abhigya/anaconda3/envs/thesisnew/lib/python3.7/site-packages/IPython/core/compilerop.py\"\u001b[1;36m, line \u001b[1;32m101\u001b[1;36m, in \u001b[1;35mast_parse\u001b[1;36m\u001b[0m\n",
      "\u001b[1;33m    return compile(source, filename, symbol, self.flags | PyCF_ONLY_AST, 1)\u001b[0m\n",
      "\u001b[1;36m  File \u001b[1;32m\"<ipython-input-6-834f909ad84f>\"\u001b[1;36m, line \u001b[1;32m1\u001b[0m\n",
      "\u001b[1;33m    for i in range(10)\u001b[0m\n",
      "\u001b[1;37m                      ^\u001b[0m\n",
      "\u001b[1;31mSyntaxError\u001b[0m\u001b[1;31m:\u001b[0m invalid syntax\n",
      "\n",
      "-------------------------------------------------------------------\n",
      "Result Obtained from Official Python Documentation Using JUPYCEEDOC\n",
      "\n",
      "-------------------------------------------------------------------\n",
      "SyntaxError\n"
     ]
    },
    {
     "data": {
      "text/html": [
       "\n",
       "\n",
       "exception SyntaxError¶\n",
       "Raised when the parser encounters a syntax error.  This may occur in an\n",
       "import statement, in a call to the built-in functions exec()\n",
       "or eval(), or when reading the initial script or standard input\n",
       "(also interactively).\n",
       "Instances of this class have attributes filename, lineno,\n",
       "offset and text for easier access to the details.  str()\n",
       "of the exception instance returns only the message.\n"
      ],
      "text/plain": [
       "<IPython.core.display.HTML object>"
      ]
     },
     "metadata": {},
     "output_type": "display_data"
    },
    {
     "name": "stdout",
     "output_type": "stream",
     "text": [
      "\u001b[43mYou may also check this Hint\u001b[49m\n",
      "You have a syntax error somewhere around line \u001b[43m line \u001b[1;32m101\u001b[1;36m\u001b[49m\n",
      "Generally, syntax errors occurs when multiple code statements are interpreted as if they were one.\n",
      "This may be caused by several simple issues, below is a list of them.\n",
      "You should check if your code contains any of these issues.\n",
      "\n",
      "1- Make sure that any strings in the code have matching quotation marks.\n",
      "2- An unclosed bracket – (, {, or [ – makes Python continue with the next line as part of the current statement.\n",
      "   Generally, an error occurs almost immediately in the next line.\n",
      "3- Make sure you are not using a Python keyword for a variable name.\n",
      "4- Check that you have a colon at the end of the header of every compound statement,\n",
      "   including for, while, if, and def statements.\n",
      "5- Check for the classic '=' instead of '==' in a conditional statement.\n",
      "Source: https://www.openbookproject.net/thinkcs/python/english2e/app_a.html\n"
     ]
    }
   ],
   "source": [
    "for i in range(10)\n",
    "    print('Hello world')"
   ]
  },
  {
   "cell_type": "code",
   "execution_count": 7,
   "metadata": {},
   "outputs": [
    {
     "name": "stdout",
     "output_type": "stream",
     "text": [
      "Traceback \u001b[1;36m(most recent call last)\u001b[0m:\n",
      "\u001b[1;36m  File \u001b[1;32m\"<ipython-input-7-6c16767f6731>\"\u001b[1;36m, line \u001b[1;32m1\u001b[1;36m, in \u001b[1;35m<module>\u001b[1;36m\u001b[0m\n",
      "\u001b[1;33m    a = 1/0\u001b[0m\n",
      "\u001b[1;31mZeroDivisionError\u001b[0m\u001b[1;31m:\u001b[0m division by zero\n",
      "\n",
      "-------------------------------------------------------------------\n",
      "Result Obtained from Official Python Documentation Using JUPYCEEDOC\n",
      "\n",
      "-------------------------------------------------------------------\n",
      "ZeroDivisionError\n"
     ]
    },
    {
     "data": {
      "text/html": [
       "\n",
       "\n",
       "exception ZeroDivisionError¶\n",
       "Raised when the second argument of a division or modulo operation is zero.  The\n",
       "associated value is a string indicating the type of the operands and the\n",
       "operation.\n"
      ],
      "text/plain": [
       "<IPython.core.display.HTML object>"
      ]
     },
     "metadata": {},
     "output_type": "display_data"
    },
    {
     "name": "stdout",
     "output_type": "stream",
     "text": [
      "\u001b[43mYou may also check this Hint\u001b[49m\n",
      "You have tried to divide a number by zero around line \u001b[43m line \u001b[1;32m1\u001b[1;36m\u001b[49m\n",
      "Check the division operation to find the error.\n",
      "Division operations where the divisor is generate by a range() can throw this error if the range() starts at 0. \n"
     ]
    }
   ],
   "source": [
    "a = 1/0"
   ]
  },
  {
   "cell_type": "code",
   "execution_count": null,
   "metadata": {},
   "outputs": [],
   "source": []
  }
 ],
 "metadata": {
  "kernelspec": {
   "display_name": "Python 3",
   "language": "python",
   "name": "python3"
  },
  "language_info": {
   "codemirror_mode": {
    "name": "ipython",
    "version": 3
   },
   "file_extension": ".py",
   "mimetype": "text/x-python",
   "name": "python",
   "nbconvert_exporter": "python",
   "pygments_lexer": "ipython3",
   "version": "3.7.7"
  }
 },
 "nbformat": 4,
 "nbformat_minor": 4
}
