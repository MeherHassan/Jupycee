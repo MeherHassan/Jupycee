{
 "cells": [
  {
   "cell_type": "code",
   "execution_count": 3,
   "metadata": {},
   "outputs": [],
   "source": [
    "import jupycee\n",
    "import re"
   ]
  },
  {
   "cell_type": "code",
   "execution_count": 4,
   "metadata": {},
   "outputs": [
    {
     "name": "stdout",
     "output_type": "stream",
     "text": [
      "Traceback \u001b[1;36m(most recent call last)\u001b[0m:\n",
      "\u001b[1;36m  File \u001b[1;32m\"<ipython-input-4-b482e39926a7>\"\u001b[1;36m, line \u001b[1;32m4\u001b[1;36m, in \u001b[1;35m<module>\u001b[1;36m\u001b[0m\n",
      "\u001b[1;33m    random_number=response.get_json()\u001b[0m\n",
      "\u001b[1;31mAttributeError\u001b[0m\u001b[1;31m:\u001b[0m 'Response' object has no attribute 'get_json'\n",
      "\n",
      "--------------------------------------------------\n",
      "Result Obtained from StackOverflow Using JUPYCEE\n",
      "\n",
      "--------------------------------------------------\n",
      "\u001b[32mSearching for AttributeError: 'Response' object has no attribute 'get_json'\u001b[39m\n",
      "\u001b[31mNo search result found forAttributeError: 'Response' object has no attribute 'get_json'\u001b[39m\n",
      "\u001b[32mSearching for 'Response' object has no attribute 'get_json'\u001b[39m\n",
      "\u001b[31mNo search result found for: 'Response' object has no attribute 'get_json'\u001b[39m\n",
      "\u001b[32mSearching for: AttributeError\u001b[39m\n",
      "\u001b[43mAnswer Found\u001b[49m\n",
      "Url is https://stackoverflow.com/questions/8949252/why-do-i-get-attributeerror-nonetype-object-has-no-attribute-something\n",
      "Que id is 8949252\n",
      "Ans id is 8949265\n",
      "\u001b[43mUn-summarised Answer is\u001b[49m\n"
     ]
    },
    {
     "data": {
      "text/html": [
       "<p>NoneType means that instead of an instance of whatever Class or Object you think you're working with, you've actually got <code>None</code>.  That usually means that an assignment or function call up above failed or returned an unexpected result.</p>\n"
      ],
      "text/plain": [
       "<IPython.core.display.HTML object>"
      ]
     },
     "metadata": {},
     "output_type": "display_data"
    },
    {
     "name": "stdout",
     "output_type": "stream",
     "text": [
      "\u001b[43mNo Summarisation needed due to less sentences found in the answer\u001b[49m\n"
     ]
    }
   ],
   "source": [
    "import requests\n",
    "response = requests.get(\"http://www.randomnumberapi.com/api/v1.0/random?count=1\")\n",
    "# response.json() is the actual method name\n",
    "random_number=response.get_json()"
   ]
  },
  {
   "cell_type": "code",
   "execution_count": null,
   "metadata": {},
   "outputs": [],
   "source": [
    "a_list = [5,1,2,6]\n",
    "sorted_list = a_list.sort()\n",
    "print(f\"First element is {sorted_list[0]}\")"
   ]
  },
  {
   "cell_type": "code",
   "execution_count": null,
   "metadata": {
    "scrolled": true
   },
   "outputs": [],
   "source": [
    "def fibonacci(n):\n",
    "    if n <= 1:\n",
    "        return n\n",
    "    else:\n",
    "        return(fibonacci(n-1) + fibonacci(n-2))\n",
    "\n",
    "fibonnaci(6)"
   ]
  },
  {
   "cell_type": "code",
   "execution_count": null,
   "metadata": {},
   "outputs": [],
   "source": []
  },
  {
   "cell_type": "code",
   "execution_count": null,
   "metadata": {},
   "outputs": [],
   "source": []
  }
 ],
 "metadata": {
  "kernelspec": {
   "display_name": "Python 3",
   "language": "python",
   "name": "python3"
  },
  "language_info": {
   "codemirror_mode": {
    "name": "ipython",
    "version": 3
   },
   "file_extension": ".py",
   "mimetype": "text/x-python",
   "name": "python",
   "nbconvert_exporter": "python",
   "pygments_lexer": "ipython3",
   "version": "3.7.7"
  }
 },
 "nbformat": 4,
 "nbformat_minor": 4
}
