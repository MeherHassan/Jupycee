{
 "cells": [
  {
   "cell_type": "code",
   "execution_count": 1,
   "metadata": {},
   "outputs": [],
   "source": [
    "import ejupycee"
   ]
  },
  {
   "cell_type": "code",
   "execution_count": 2,
   "metadata": {},
   "outputs": [
    {
     "name": "stdout",
     "output_type": "stream",
     "text": [
      "Traceback \u001b[1;36m(most recent call last)\u001b[0m:\n",
      "\u001b[1;36m  File \u001b[1;32m\"<ipython-input-2-7cb091b12752>\"\u001b[1;36m, line \u001b[1;32m4\u001b[1;36m, in \u001b[1;35m<module>\u001b[1;36m\u001b[0m\n",
      "\u001b[1;33m    print(world_cup_titles[5])\u001b[0m\n",
      "\u001b[1;31mIndexError\u001b[0m\u001b[1;31m:\u001b[0m list index out of range\n",
      "\n",
      "---------------------------------------\n",
      "Combined results obtained using EJUPYCEE\n",
      "\n",
      "---------------------------------------------------\n",
      "---------------------------------------------------\n",
      "1. Result Obtained from StackOverflow Using JUPYCEE\n",
      "\n",
      "--------------------------------------------------\n",
      "\u001b[32mSearching for IndexError: list index out of range\u001b[39m\n",
      "\u001b[43mAnswer Found\u001b[49m\n",
      "Url is https://stackoverflow.com/questions/1098643/indexerror-list-index-out-of-range-and-python\n",
      "Que id is 1098643\n",
      "Ans id is 1098660\n",
      "\u001b[43mUn-summarised Answer is\u001b[49m\n"
     ]
    },
    {
     "data": {
      "text/html": [
       "<p>If you have a list with 53 items, the last one is <code>thelist[52]</code> because indexing starts at 0.</p>\n",
       "<h2><code>IndexError</code></h2>\n",
       "<ul>\n",
       "<li>Attribution to <a href=\"https://realpython.com/python-traceback/#indexerror\" rel=\"noreferrer\">Real Python: Understanding the Python Traceback - <code>IndexError</code></a></li>\n",
       "</ul>\n",
       "<p>The <code>IndexError</code> is raised when attempting to retrieve an index from a sequence (e.g. <code>list</code>, <code>tuple</code>), and the index isn’t found in the sequence. The Python documentation defines when this exception is raised:</p>\n",
       "<p><em>Raised when a sequence subscript is out of range. (Source)</em></p>\n",
       "<p>Here’s an example that raises the <code>IndexError</code>:</p>\n",
       "<pre class=\"lang-py prettyprint-override\"><code>test = list(range(53))\n",
       "test[53]\n",
       "\n",
       "---------------------------------------------------------------------------\n",
       "IndexError                                Traceback (most recent call last)\n",
       "&lt;ipython-input-6-7879607f7f36&gt; in &lt;module&gt;\n",
       "      1 test = list(range(53))\n",
       "----&gt; 2 test[53]\n",
       "\n",
       "IndexError: list index out of range\n",
       "</code></pre>\n",
       "<p>The error message line for an <code>IndexError</code> doesn’t provide great information. See that there is a sequence reference that is out of range and what the type of the sequence is, a <code>list</code> in this case. That information, combined with the rest of the traceback, is usually enough to help quickly identify how to fix the issue.</p>\n"
      ],
      "text/plain": [
       "<IPython.core.display.HTML object>"
      ]
     },
     "metadata": {},
     "output_type": "display_data"
    },
    {
     "name": "stdout",
     "output_type": "stream",
     "text": [
      "\u001b[43mSummarised Answer is\u001b[49m\n"
     ]
    },
    {
     "data": {
      "text/html": [
       "<p>If you have a list with 53 items, the last one is <code>thelist[52]</code> because indexing starts at 0.</p> <h2><code>IndexError</code></h2> <ul> <li>Attribution to <a href=\"https://realpython.com/python-traceback/#indexerror\" rel=\"noreferrer\">Real Python: Understanding the Python Traceback - <code>IndexError</code></a></li> </ul> <p>The <code>IndexError</code> is raised when attempting to retrieve an index from a sequence (e.g. <code>list</code>, <code>tuple</code>), and the index isn’t found in the sequence.The Python documentation defines when this exception is raised:</p> <p><em>Raised when a sequence subscript is out of range.--------------------------------------------------------------------------- IndexError                                Traceback (most recent call last) &lt;ipython-input-6-7879607f7f36&gt; in &lt;module&gt; 1 test = list(range(53)) ----&gt; 2 test[53]See that there is a sequence reference that is out of range and what the type of the sequence is, a <code>list</code> in this case."
      ],
      "text/plain": [
       "<IPython.core.display.HTML object>"
      ]
     },
     "metadata": {},
     "output_type": "display_data"
    },
    {
     "name": "stdout",
     "output_type": "stream",
     "text": [
      "----------------------------------------------------------------------\n",
      "----------------------------------------------------------------------\n",
      "2. Result Obtained from Official Python Documentation Using JUPYCEEDOC\n",
      "\n",
      "-------------------------------------------------------------------\n",
      "IndexError\n"
     ]
    },
    {
     "data": {
      "text/html": [
       "\n",
       "\n",
       "exception IndexError¶\n",
       "Raised when a sequence subscript is out of range.  (Slice indices are\n",
       "silently truncated to fall in the allowed range; if an index is not an\n",
       "integer, TypeError is raised.)\n"
      ],
      "text/plain": [
       "<IPython.core.display.HTML object>"
      ]
     },
     "metadata": {},
     "output_type": "display_data"
    },
    {
     "name": "stdout",
     "output_type": "stream",
     "text": [
      "\u001b[43mYou may also check this Hint\u001b[49m\n",
      "You tried to access an index that does not exist in a sequence at \u001b[43m line \u001b[1;32m4\u001b[1;36m\u001b[49m.\n",
      "An IndexError happens when asking for non existing indexes values of sequences.\n",
      "Sequences can be lists, tuples and range objects.\n",
      "To fix this make sure that the index value is valid.\n"
     ]
    }
   ],
   "source": [
    "# Brazil world cup titles by year\n",
    "world_cup_titles = [1958,1962,1970,1994,2002]\n",
    "# print year of the 5th title\n",
    "print(world_cup_titles[5])"
   ]
  },
  {
   "cell_type": "code",
   "execution_count": 3,
   "metadata": {},
   "outputs": [
    {
     "name": "stdout",
     "output_type": "stream",
     "text": [
      "Traceback \u001b[1;36m(most recent call last)\u001b[0m:\n",
      "\u001b[1;36m  File \u001b[1;32m\"<ipython-input-3-b1b2720bae0b>\"\u001b[1;36m, line \u001b[1;32m7\u001b[1;36m, in \u001b[1;35m<module>\u001b[1;36m\u001b[0m\n",
      "\u001b[1;33m    fibonnaci(6)\u001b[0m\n",
      "\u001b[1;31mNameError\u001b[0m\u001b[1;31m:\u001b[0m name 'fibonnaci' is not defined\n",
      "\n",
      "---------------------------------------\n",
      "Combined results obtained using EJUPYCEE\n",
      "\n",
      "---------------------------------------------------\n",
      "---------------------------------------------------\n",
      "1. Result Obtained from StackOverflow Using JUPYCEE\n",
      "\n",
      "--------------------------------------------------\n",
      "\u001b[32mSearching for NameError: name 'fibonnaci' is not defined\u001b[39m\n",
      "\u001b[31mNo search result found forNameError: name 'fibonnaci' is not defined\u001b[39m\n",
      "\u001b[32mSearching for name 'fibonnaci' is not defined\u001b[39m\n",
      "\u001b[31mNo search result found for: name 'fibonnaci' is not defined\u001b[39m\n",
      "\u001b[32mSearching for: NameError\u001b[39m\n",
      "\u001b[43mAnswer Found\u001b[49m\n",
      "Url is https://stackoverflow.com/questions/17192158/nameerror-global-name-xrange-is-not-defined-in-python-3\n",
      "Que id is 17192158\n",
      "Ans id is 17192181\n",
      "\u001b[43mUn-summarised Answer is\u001b[49m\n"
     ]
    },
    {
     "data": {
      "text/html": [
       "<p>You are trying to run a Python 2 codebase with Python 3. <a href=\"https://docs.python.org/2/library/functions.html#xrange\" rel=\"noreferrer\"><code>xrange()</code></a> was renamed to <a href=\"https://docs.python.org/3/library/functions.html#func-range\" rel=\"noreferrer\"><code>range()</code></a> in Python 3.</p>\n",
       "\n",
       "<p>Run the game with Python 2 instead. Don't try to port it unless you know what you are doing, most likely there will be more problems beyond <code>xrange()</code> vs. <code>range()</code>.</p>\n",
       "\n",
       "<p>For the record, what you are seeing is not a syntax error but a runtime exception instead.</p>\n",
       "\n",
       "<hr>\n",
       "\n",
       "<p>If you do know what your are doing and are actively making a Python 2 codebase compatible with Python 3, you can bridge the code by adding the global name to your module as an alias for <code>range</code>. (Take into account that you <em>may</em> have to update any existing <code>range()</code> use in the Python 2 codebase with <code>list(range(...))</code> to ensure you still get a list object in Python 3):</p>\n",
       "\n",
       "<pre><code>try:\n",
       "    # Python 2\n",
       "    xrange\n",
       "except NameError:\n",
       "    # Python 3, xrange is now named range\n",
       "    xrange = range\n",
       "\n",
       "# Python 2 code that uses xrange(...) unchanged, and any\n",
       "# range(...) replaced with list(range(...))\n",
       "</code></pre>\n",
       "\n",
       "<p>or replace all uses of <code>xrange(...)</code> with <code>range(...)</code> in the codebase and then use a different shim to make the Python 3 syntax compatible with Python 2:</p>\n",
       "\n",
       "<pre><code>try:\n",
       "    # Python 2 forward compatibility\n",
       "    range = xrange\n",
       "except NameError:\n",
       "    pass\n",
       "\n",
       "# Python 2 code transformed from range(...) -&gt; list(range(...)) and\n",
       "# xrange(...) -&gt; range(...).\n",
       "</code></pre>\n",
       "\n",
       "<p>The latter is preferable for codebases that want to aim to be Python 3 compatible <em>only</em> in the long run, it is easier to then just use Python 3 syntax whenever possible.</p>\n"
      ],
      "text/plain": [
       "<IPython.core.display.HTML object>"
      ]
     },
     "metadata": {},
     "output_type": "display_data"
    },
    {
     "name": "stdout",
     "output_type": "stream",
     "text": [
      "\u001b[43mSummarised Answer is\u001b[49m\n"
     ]
    },
    {
     "data": {
      "text/html": [
       "<p>If you do know what your are doing and are actively making a Python 2 codebase compatible with Python 3, you can bridge the code by adding the global name to your module as an alias for <code>range</code>.(Take into account that you <em>may</em> have to update any existing <code>range()</code> use in the Python 2 codebase with <code>list(range(...))</code> to ensure you still get a list object in Python 3):</p><p>or replace all uses of <code>xrange(...)</code> with <code>range(...)</code> in the codebase and then use a different shim to make the Python 3 syntax compatible with Python 2:</p><p>The latter is preferable for codebases that want to aim to be Python 3 compatible <em>only</em> in the long run, it is easier to then just use Python 3 syntax whenever possible.</p>"
      ],
      "text/plain": [
       "<IPython.core.display.HTML object>"
      ]
     },
     "metadata": {},
     "output_type": "display_data"
    },
    {
     "name": "stdout",
     "output_type": "stream",
     "text": [
      "----------------------------------------------------------------------\n",
      "----------------------------------------------------------------------\n",
      "2. Result Obtained from Official Python Documentation Using JUPYCEEDOC\n",
      "\n",
      "-------------------------------------------------------------------\n",
      "NameError\n"
     ]
    },
    {
     "data": {
      "text/html": [
       "\n",
       "\n",
       "exception NameError¶\n",
       "Raised when a local or global name is not found.  This applies only to\n",
       "unqualified names.  The associated value is an error message that includes the\n",
       "name that could not be found.\n"
      ],
      "text/plain": [
       "<IPython.core.display.HTML object>"
      ]
     },
     "metadata": {},
     "output_type": "display_data"
    },
    {
     "name": "stdout",
     "output_type": "stream",
     "text": [
      "\u001b[43mYou may also check this Hint\u001b[49m\n",
      "A variable named '\u001b[43mfibonnaci\u001b[49m' is missing.\n",
      "Maybe you forget to define this variable or even you accidentally misspelled its actual name?\n"
     ]
    }
   ],
   "source": [
    "def fibonacci(n):\n",
    "    if n <= 1:\n",
    "        return n\n",
    "    else:\n",
    "        return(fibonacci(n-1) + fibonacci(n-2))\n",
    "\n",
    "fibonnaci(6)"
   ]
  }
 ],
 "metadata": {
  "kernelspec": {
   "display_name": "Python 3",
   "language": "python",
   "name": "python3"
  },
  "language_info": {
   "codemirror_mode": {
    "name": "ipython",
    "version": 3
   },
   "file_extension": ".py",
   "mimetype": "text/x-python",
   "name": "python",
   "nbconvert_exporter": "python",
   "pygments_lexer": "ipython3",
   "version": "3.8.5"
  }
 },
 "nbformat": 4,
 "nbformat_minor": 4
}
