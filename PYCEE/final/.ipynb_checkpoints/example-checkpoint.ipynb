{
 "cells": [
  {
   "cell_type": "code",
   "execution_count": 1,
   "metadata": {},
   "outputs": [],
   "source": [
    "import jupycee #separate import"
   ]
  },
  {
   "cell_type": "code",
   "execution_count": 2,
   "metadata": {},
   "outputs": [
    {
     "name": "stdout",
     "output_type": "stream",
     "text": [
      "Traceback \u001b[1;36m(most recent call last)\u001b[0m:\n",
      "\u001b[1;36m  File \u001b[1;32m\"<ipython-input-2-a4c630d9b66b>\"\u001b[1;36m, line \u001b[1;32m1\u001b[1;36m, in \u001b[1;35m<module>\u001b[1;36m\u001b[0m\n",
      "\u001b[1;33m    import kkl\u001b[0m\n",
      "\u001b[1;31mModuleNotFoundError\u001b[0m\u001b[1;31m:\u001b[0m No module named 'kkl'\n",
      "\n",
      "--------------------------------------------------\n",
      "Result Obtained from StackOverflow Using JUPYCEE\n",
      "\n",
      "--------------------------------------------------\n",
      "\u001b[32mSearching for ModuleNotFoundError: No module named 'kkl'\u001b[39m\n",
      "\u001b[31mNo search result found forModuleNotFoundError: No module named 'kkl'\u001b[39m\n",
      "\u001b[32mSearching for No module named 'kkl'\u001b[39m\n",
      "\u001b[31mNo search result found for: No module named 'kkl'\u001b[39m\n",
      "\u001b[32mSearching for: ModuleNotFoundError\u001b[39m\n",
      "\u001b[43mAnswer Found\u001b[49m\n",
      "Url is https://stackoverflow.com/questions/41816973/modulenotfounderror-what-does-it-mean-main-is-not-a-package\n",
      "Que id is 41816973\n",
      "Ans id is 41817024\n",
      "\u001b[43mUn-summarised Answer is\u001b[49m\n"
     ]
    },
    {
     "data": {
      "text/html": [
       "<p>Simply remove the dot for the relative import and do:</p>\n",
       "\n",
       "<pre><code>from p_02_paying_debt_off_in_a_year import compute_balance_after\n",
       "</code></pre>\n"
      ],
      "text/plain": [
       "<IPython.core.display.HTML object>"
      ]
     },
     "metadata": {},
     "output_type": "display_data"
    },
    {
     "name": "stdout",
     "output_type": "stream",
     "text": [
      "\u001b[43mNo Summarisation needed due to less sentences found in the answer\u001b[49m\n"
     ]
    }
   ],
   "source": [
    "import kkl #your code where you encounter error"
   ]
  },
  {
   "cell_type": "code",
   "execution_count": 3,
   "metadata": {},
   "outputs": [],
   "source": [
    "import jupyceedoc #separate import"
   ]
  },
  {
   "cell_type": "code",
   "execution_count": 4,
   "metadata": {},
   "outputs": [
    {
     "name": "stdout",
     "output_type": "stream",
     "text": [
      "Traceback \u001b[1;36m(most recent call last)\u001b[0m:\n",
      "\u001b[1;36m  File \u001b[1;32m\"<ipython-input-4-a4c630d9b66b>\"\u001b[1;36m, line \u001b[1;32m1\u001b[1;36m, in \u001b[1;35m<module>\u001b[1;36m\u001b[0m\n",
      "\u001b[1;33m    import kkl\u001b[0m\n",
      "\u001b[1;31mModuleNotFoundError\u001b[0m\u001b[1;31m:\u001b[0m No module named 'kkl'\n",
      "\n",
      "-------------------------------------------------------------------\n",
      "Result Obtained from Official Python Documentation Using JUPYCEEDOC\n",
      "\n",
      "-------------------------------------------------------------------\n",
      "ModuleNotFoundError\n"
     ]
    },
    {
     "data": {
      "text/html": [
       "\n",
       "\n",
       "exception ModuleNotFoundError¶\n",
       "A subclass of ImportError which is raised by import\n",
       "when a module could not be located.  It is also raised when None\n",
       "is found in sys.modules.\n",
       "\n",
       "New in version 3.6.\n",
       "\n"
      ],
      "text/plain": [
       "<IPython.core.display.HTML object>"
      ]
     },
     "metadata": {},
     "output_type": "display_data"
    },
    {
     "name": "stdout",
     "output_type": "stream",
     "text": [
      "ImportError\n"
     ]
    },
    {
     "data": {
      "text/html": [
       "\n",
       "\n",
       "exception ImportError¶\n",
       "Raised when the import statement has troubles trying to\n",
       "load a module.  Also raised when the “from list” in from ... import\n",
       "has a name that cannot be found.\n",
       "The name and path attributes can be set using keyword-only\n",
       "arguments to the constructor. When set they represent the name of the module\n",
       "that was attempted to be imported and the path to any file which triggered\n",
       "the exception, respectively.\n",
       "\n",
       "Changed in version 3.3: Added the name and path attributes.\n",
       "\n"
      ],
      "text/plain": [
       "<IPython.core.display.HTML object>"
      ]
     },
     "metadata": {},
     "output_type": "display_data"
    },
    {
     "name": "stdout",
     "output_type": "stream",
     "text": [
      "\u001b[43mYou may also check this Hint\u001b[49m\n",
      "A module (library) named '\u001b[43mkkl\u001b[49m' is missing.\n",
      "You might want to check if this is a valid module name or\n",
      "if this module can be installed using pip like: 'pip install \u001b[43mkkl\u001b[49m'\n"
     ]
    }
   ],
   "source": [
    "import kkl #your code where you encounter error"
   ]
  },
  {
   "cell_type": "code",
   "execution_count": 5,
   "metadata": {},
   "outputs": [],
   "source": [
    "import ejupycee #separate import"
   ]
  },
  {
   "cell_type": "code",
   "execution_count": 6,
   "metadata": {},
   "outputs": [
    {
     "name": "stdout",
     "output_type": "stream",
     "text": [
      "Traceback \u001b[1;36m(most recent call last)\u001b[0m:\n",
      "\u001b[1;36m  File \u001b[1;32m\"<ipython-input-6-a4c630d9b66b>\"\u001b[1;36m, line \u001b[1;32m1\u001b[1;36m, in \u001b[1;35m<module>\u001b[1;36m\u001b[0m\n",
      "\u001b[1;33m    import kkl\u001b[0m\n",
      "\u001b[1;31mModuleNotFoundError\u001b[0m\u001b[1;31m:\u001b[0m No module named 'kkl'\n",
      "\n",
      "---------------------------------------\n",
      "Combined results obtained using EJUPYCEE\n",
      "\n",
      "---------------------------------------------------\n",
      "---------------------------------------------------\n",
      "1. Result Obtained from StackOverflow Using JUPYCEE\n",
      "\n",
      "--------------------------------------------------\n",
      "\u001b[32mSearching for ModuleNotFoundError: No module named 'kkl'\u001b[39m\n",
      "\u001b[31mNo search result found forModuleNotFoundError: No module named 'kkl'\u001b[39m\n",
      "\u001b[32mSearching for No module named 'kkl'\u001b[39m\n",
      "\u001b[31mNo search result found for: No module named 'kkl'\u001b[39m\n",
      "\u001b[32mSearching for: ModuleNotFoundError\u001b[39m\n",
      "\u001b[43mAnswer Found\u001b[49m\n",
      "Url is https://stackoverflow.com/questions/41816973/modulenotfounderror-what-does-it-mean-main-is-not-a-package\n",
      "Que id is 41816973\n",
      "Ans id is 41817024\n",
      "\u001b[43mUn-summarised Answer is\u001b[49m\n"
     ]
    },
    {
     "data": {
      "text/html": [
       "<p>Simply remove the dot for the relative import and do:</p>\n",
       "\n",
       "<pre><code>from p_02_paying_debt_off_in_a_year import compute_balance_after\n",
       "</code></pre>\n"
      ],
      "text/plain": [
       "<IPython.core.display.HTML object>"
      ]
     },
     "metadata": {},
     "output_type": "display_data"
    },
    {
     "name": "stdout",
     "output_type": "stream",
     "text": [
      "\u001b[42mNo Summarisation needed due to less sentences found in the answer\u001b[49m\n",
      "----------------------------------------------------------------------\n",
      "----------------------------------------------------------------------\n",
      "2. Result Obtained from Official Python Documentation Using JUPYCEEDOC\n",
      "\n",
      "-------------------------------------------------------------------\n",
      "ModuleNotFoundError\n"
     ]
    },
    {
     "data": {
      "text/html": [
       "\n",
       "\n",
       "exception ModuleNotFoundError¶\n",
       "A subclass of ImportError which is raised by import\n",
       "when a module could not be located.  It is also raised when None\n",
       "is found in sys.modules.\n",
       "\n",
       "New in version 3.6.\n",
       "\n"
      ],
      "text/plain": [
       "<IPython.core.display.HTML object>"
      ]
     },
     "metadata": {},
     "output_type": "display_data"
    },
    {
     "name": "stdout",
     "output_type": "stream",
     "text": [
      "ImportError\n"
     ]
    },
    {
     "data": {
      "text/html": [
       "\n",
       "\n",
       "exception ImportError¶\n",
       "Raised when the import statement has troubles trying to\n",
       "load a module.  Also raised when the “from list” in from ... import\n",
       "has a name that cannot be found.\n",
       "The name and path attributes can be set using keyword-only\n",
       "arguments to the constructor. When set they represent the name of the module\n",
       "that was attempted to be imported and the path to any file which triggered\n",
       "the exception, respectively.\n",
       "\n",
       "Changed in version 3.3: Added the name and path attributes.\n",
       "\n"
      ],
      "text/plain": [
       "<IPython.core.display.HTML object>"
      ]
     },
     "metadata": {},
     "output_type": "display_data"
    },
    {
     "name": "stdout",
     "output_type": "stream",
     "text": [
      "\u001b[43mYou may also check this Hint\u001b[49m\n",
      "A module (library) named '\u001b[43mkkl\u001b[49m' is missing.\n",
      "You might want to check if this is a valid module name or\n",
      "if this module can be installed using pip like: 'pip install \u001b[43mkkl\u001b[49m'\n"
     ]
    }
   ],
   "source": [
    "import kkl #your code where you encounter error"
   ]
  },
  {
   "cell_type": "code",
   "execution_count": null,
   "metadata": {},
   "outputs": [],
   "source": []
  }
 ],
 "metadata": {
  "kernelspec": {
   "display_name": "Python 3",
   "language": "python",
   "name": "python3"
  },
  "language_info": {
   "codemirror_mode": {
    "name": "ipython",
    "version": 3
   },
   "file_extension": ".py",
   "mimetype": "text/x-python",
   "name": "python",
   "nbconvert_exporter": "python",
   "pygments_lexer": "ipython3",
   "version": "3.8.5"
  }
 },
 "nbformat": 4,
 "nbformat_minor": 4
}
